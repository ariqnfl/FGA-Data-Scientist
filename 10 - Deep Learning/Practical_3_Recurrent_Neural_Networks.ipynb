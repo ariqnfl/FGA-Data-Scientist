{
 "cells": [
  {
   "cell_type": "markdown",
   "metadata": {
    "colab_type": "text",
    "id": "9jDBz0IbW3Xy"
   },
   "source": [
    "# Practical 3: Recurrent Neural Networks (RNNs)\n",
    "\n",
    "\n"
   ]
  },
  {
   "cell_type": "markdown",
   "metadata": {
    "colab_type": "text",
    "id": "-0F3Ao8BKa0g"
   },
   "source": [
    "## Introduction\n",
    "\n",
    "Feedforward models (eg deep MLPs and ConvNets) map fixed-size input-data (vectors of a fixed dimensionality) to their output labels. They're very powerful and have been successfully used for many tasks. However, a lot of data is not in the form of fixed-size vectors, but exists in the form of **sequences**. Language is one good example, where sentences are sequences of words. In some way, almost any data types can be considered as a sequence (for instance an image consists of a sequence of pixels, speech a sequence of phonemes, and so forth). \n",
    "\n",
    "Recurrent neural networks (**RNNs**) were designed to be able to handle sequential data, and in this practical we will take a closer look at RNNs and then build a model that can generate English sentences in the style of Shakespeare!"
   ]
  },
  {
   "cell_type": "markdown",
   "metadata": {
    "colab_type": "text",
    "id": "otAAvBVFSZy8"
   },
   "source": [
    "## Learning Objectives\n",
    "* Understand how RNNs model sequential data.\n",
    "* Understand how the vanilla RNN is a generalization of feedforward models to incorporate sequential dependencies.\n",
    "* Understand the issues involved when training RNNs.\n",
    "* Know how to implement an RNN for time-series estimation (**regression**) and an RNN language model (character-level **classification**) in Tensorflow using Keras."
   ]
  },
  {
   "cell_type": "markdown",
   "metadata": {
    "colab_type": "text",
    "id": "gfKcEFUxa--9"
   },
   "source": [
    "##Imports\n"
   ]
  },
  {
   "cell_type": "code",
   "execution_count": 2,
   "metadata": {
    "colab": {
     "base_uri": "https://localhost:8080/",
     "height": 51
    },
    "colab_type": "code",
    "id": "h8glXxcyew17",
    "outputId": "6dee02e2-e3b9-4ee2-f7a7-2006dd9979e0"
   },
   "outputs": [
    {
     "name": "stdout",
     "output_type": "stream",
     "text": [
      "Running TensorFlow version 1.13.1\n",
      "Eager mode activated.\n"
     ]
    }
   ],
   "source": [
    "#@title Imports (RUN ME!) { display-mode: \"form\" }\n",
    "\n",
    "#!pip -q install pydot_ng\n",
    "#!pip -q install graphviz\n",
    "#!apt install graphviz > /dev/null\n",
    "\n",
    "#from __future__ import absolute_import, division, print_function\n",
    "\n",
    "import numpy as np\n",
    "import tensorflow as tf\n",
    "import math\n",
    "import random\n",
    "import ssl\n",
    "import sys\n",
    "import urllib.request\n",
    "from IPython import display\n",
    "import matplotlib.pyplot as plt\n",
    "%matplotlib inline\n",
    "\n",
    "print('Running TensorFlow version %s' % (tf.__version__))\n",
    "try:\n",
    "  tf.enable_eager_execution()\n",
    "  print('Eager mode activated.')\n",
    "except ValueError:\n",
    "  print('Already running in Eager mode')"
   ]
  },
  {
   "cell_type": "markdown",
   "metadata": {
    "colab_type": "text",
    "id": "yVL1OwL7aH8c"
   },
   "source": [
    "##From Feedforward to Recurrent Models\n",
    "\n",
    "### Intuition\n",
    "RNNs generalize feedforward networks (FFNs) to be able to work with sequential data. FFNs take an input (e.g. an image) and immediately produce an output (e.g. a digit class), something like this:"
   ]
  },
  {
   "cell_type": "code",
   "execution_count": 3,
   "metadata": {
    "colab": {},
    "colab_type": "code",
    "id": "NqZsIaRU6-WK"
   },
   "outputs": [],
   "source": [
    "def ffn_forward(x, W_xh, W_ho, b_hid, b_out):\n",
    " \n",
    "    # Compute activations on the hidden layer.\n",
    "    hidden_layer = act_fn(np.dot(W_xh, x) + b_hid)\n",
    "    \n",
    "    # Compute the (linear) output layer activations.     \n",
    "    output = np.dot(W_ho, hidden_layer) + b_out\n",
    "    \n",
    "    return output"
   ]
  },
  {
   "cell_type": "markdown",
   "metadata": {
    "colab_type": "text",
    "id": "Kb3Tjms06_XL"
   },
   "source": [
    "**NOTE**: You don't have to run this cell, it's just shown to illustrate the point.\n",
    "\n",
    "RNNs, on the other hand, consider the data sequentially, and can remember what they have seen earlier in the sequence to help interpret or contextualize elements from later in the sequence when making predictions, something like this:\n"
   ]
  },
  {
   "cell_type": "code",
   "execution_count": 4,
   "metadata": {
    "colab": {},
    "colab_type": "code",
    "id": "ACx_wHGB7AWc"
   },
   "outputs": [],
   "source": [
    "def rnn_forward(data_sequence, initial_state):\n",
    "\n",
    "    state = initial_state  # Reused at every time-step\n",
    "    all_states, all_ys = [state], []  # Used to save all states and predictions\n",
    "\n",
    "    for x, y in data_sequence:\n",
    "      \n",
    "      # recurrent_fn() takes the current input and the previous state and produces a new state\n",
    "      new_state, y_pred = recurrent_fn(x, state)\n",
    "      \n",
    "      all_states.append(new_state)\n",
    "      all_ys.append(y_pred)\n",
    "      \n",
    "      # Update state for the next time-step\n",
    "      state = new_state\n",
    "\n",
    "    return all_states, all_ys"
   ]
  },
  {
   "cell_type": "markdown",
   "metadata": {
    "colab_type": "text",
    "id": "-Crh_ViE7Ave"
   },
   "source": [
    "To understand the distinction between FFNs and RNNs, imagine we want to label words as the part-of-speech categories that they belong to: E.g. for the input sentence \"I want a duck\" and \"He had to duck\", we want our model to predict that duck is a `Noun` in the first sentence and a `Verb` in the second. To do this successfully, the model needs to be aware of the surrounding context. However, if we feed a FFN model only one word at a time, how could it know the difference? If we want to feed it all the words at once, how do we deal with the fact that sentences are of different lengths?\n",
    "\n",
    "RNNs solve this issue by processing the sentence word-by-word, and maintaining an internal **state** summarizing what it has seen so far. This applies not only to words, but also to phonemes in speech, or even, as we will see, elements of a time-series.\n",
    "\n"
   ]
  },
  {
   "cell_type": "markdown",
   "metadata": {
    "colab_type": "text",
    "id": "zUqww79L6Ot-"
   },
   "source": [
    "### Unrolling the network\n",
    "\n",
    "Imagine we are trying to classify a sequence $X = (x_1, x_2, \\ldots, x_N)$ into labels $y$ (for now, let's keep it abstract). After running the `rnn_forward()` function of our RNN defined above on $X$, we would have a list of internal states and outputs of the model at each sequence position. This process is called **unrolling or unfolding in time**, because you can think of it as unrolling the *computations* defined by the RNN loop over the inputs at each position of the sequence.  RNNs are often used to model **time series data** (which we will do in this practical), and therefore these positions are referred to as **time-steps**, and hence we call this process \"unrolling over time\". See the visualization below from this great [blog post](http://www.wildml.com/2015/09/recurrent-neural-networks-tutorial-part-1-introduction-to-rnns/) (it uses slightly different notation, but the idea should be clear):\n",
    "\n",
    "![Unrolled Network](http://d3kbpzbmcynnmx.cloudfront.net/wp-content/uploads/2015/09/rnn.jpg)\n",
    "\n",
    "> **We can therefore think of an RNN as a composition of identical feedforward neural networks (with replicated/tied weights), one for each moment or step in time. **\n",
    "\n",
    "These feedforward functions that make up the RNN(i.e. our `recurrent_fn` above) are typically referred to as **cells**, and the only restriction on its API is that the cell function needs to be a differentiable function that can map an input and a state vector to an output and a new state vector. What we have shown above is called the **vanilla RNN**, but there are many more possibilities. One of the most popular variants is called the **Long Short-Term Memory (LSTM)** cell, which we'll use later to create our Shakespeare language model.\n",
    "\n",
    "### Putting this together \n",
    "\n",
    "In the feedforward models we've seen before, the input $x$ is mapped to an intermediate hidden layer $h$ as follows:\n",
    "\n",
    "\\begin{equation}\n",
    "  h = \\sigma(\\underbrace{W_{xh}x}_\\text{current input (per-example)} + b)\n",
    "\\end{equation}\n",
    "\n",
    "where $\\sigma$ is some non-linear activation function like ReLU or tanh.  We can then make a prediction $\\hat{y} = \\sigma(W_{hy}h + b)$ based on $h$, or we can add another layer, etc.  **NOTE**: We use the weight subscript $W_{xz}$ to indicate a mapping from layer $x$ to layer $z$.\n",
    "\n",
    "RNNs generalize this idea to a sequence of inputs $X = {x_1, x_2, ...}$ by maintaining a sequence of state vectors $h_t$, one for every time-step $t$, as follows:\n",
    "\n",
    "\\begin{equation}\n",
    "  h_t = \\sigma(\\underbrace{W_{hh}h_{t-1}}_\\text{previous state} + \\underbrace{W_{xh}x_t}_\\text{current input (per time-step)} + b)\n",
    "\\end{equation}\n",
    "\n",
    "Feedforward models map one input to one output. On the other hand, RNNs can give **many-to-many** (many inputs, many labels), **many-to-one**, and **one-to-many** mappings. For example, we could use each $h_t$ to predict the part of speech for that time-step ($y_t= \\sigma(W_{hy}h_t+b)$) or we could use the last state $h_T$ to predict the topic of the whole document. Which task the RNN performs is based on the training data (of course)! We can visualize these as follows (fromt this [excellent blog post](http://karpathy.github.io/2015/05/21/rnn-effectiveness/) by Andrej Karpathy):\n",
    "\n",
    "![](http://karpathy.github.io/assets/rnn/diags.jpeg)\n",
    "\n",
    "**QUESTIONS**\n",
    "* How are FFNs and RNNs **similar**?\n",
    "* How are they **different**?\n",
    "* Why do we call RNNs \"recurrent\"?\n",
    "* Can you think of a one-to-many task?"
   ]
  },
  {
   "cell_type": "markdown",
   "metadata": {
    "colab_type": "text",
    "id": "9wuobtH3aB59"
   },
   "source": [
    "##Modeling General Time-Series\n",
    "\n",
    "We will train an RNN to model a time-series as a first step. A **time-series** is a series of data-points ordered over discrete time-steps. Examples include the hourly temperature of Stellenbosch over a month or a year, the market price of some asset (like a company's stock) over time, and so forth. We will generate a **sinusoidal time-series** (with or without noise) as a toy example, and then train a tiny RNN model with only 5 parameters on this data."
   ]
  },
  {
   "cell_type": "markdown",
   "metadata": {
    "colab_type": "text",
    "id": "oAQIXUL-oje2"
   },
   "source": [
    "###Create some artificial data"
   ]
  },
  {
   "cell_type": "code",
   "execution_count": 5,
   "metadata": {
    "colab": {
     "base_uri": "https://localhost:8080/",
     "height": 226
    },
    "colab_type": "code",
    "id": "412j4v-RIfYR",
    "outputId": "94a3f6f0-aaaf-41c3-ed80-68372c62f279"
   },
   "outputs": [
    {
     "data": {
      "image/png": "[encoded data removed]",
      "text/plain": [
       "<Figure size 1080x216 with 1 Axes>"
      ]
     },
     "metadata": {
      "needs_background": "light"
     },
     "output_type": "display_data"
    }
   ],
   "source": [
    "#@title Create sinusoidal data {run: \"auto\"}\n",
    "steps_per_cycle = 20 #@param { type: \"slider\", min:1, max:100, step:1 }\n",
    "number_of_cycles = 176 #@param { type: \"slider\", min:1, max:1000, step:1 }\n",
    "noise_factor = 0.1 #@param { type: \"slider\", min:0, max:1, step:0.1 }\n",
    "plot_num_cycles = 23 #@param { type: \"slider\", min:1, max:50, step:1 }\n",
    "\n",
    "seq_len = steps_per_cycle * number_of_cycles\n",
    "t = np.arange(seq_len)\n",
    "sin_t_noisy = np.sin(2 * np.pi / steps_per_cycle * t + noise_factor * np.random.uniform(-1.0, +1.0, seq_len))\n",
    "sin_t_clean = np.sin(2 * np.pi / steps_per_cycle * t)\n",
    "\n",
    "upto = plot_num_cycles * steps_per_cycle\n",
    "fig = plt.figure(figsize=(15,3))\n",
    "plt.plot(t[:upto], sin_t_noisy[:upto])\n",
    "plt.title(\"Showing first {} cycles.\".format(plot_num_cycles))\n",
    "plt.show()\n",
    "\n",
    "#both = np.column_stack((t, sin_t_noisy))\n",
    "#print(\"both.shape = {}\".format(both.shape))\n",
    "\n",
    "#print(\"both[:steps_per_cycle, :steps_per_cycle]\")\n",
    "#print(both[:steps_per_cycle,:steps_per_cycle])"
   ]
  },
  {
   "cell_type": "markdown",
   "metadata": {
    "colab_type": "text",
    "id": "Eaypg9gKos21"
   },
   "source": [
    "**TASK**: Adjust the parameters above to generate data with different properties.\n",
    "\n",
    "Now we pack the data into train and test batches. Note that while RNNs can in theory learn the dependencies across all inputs received so far (using an algorithm called **backpropagation through time**, or BPTT; see the Aside box below), in practice they are trained using an algorithm called **truncated BPTT** where we truncate the inputs to only the last $T$ symbols (this is the `truncated_seq_len` variable below).\n",
    "\n",
    "**QUESTIONs**: \n",
    "* What issues can you think may arise by truncating the training data in this way? \n",
    "* Despite these issues, why do you think it might be necessary to do this?"
   ]
  },
  {
   "cell_type": "code",
   "execution_count": 6,
   "metadata": {
    "cellView": "both",
    "colab": {
     "base_uri": "https://localhost:8080/",
     "height": 71
    },
    "colab_type": "code",
    "id": "RtwMLLCNorw4",
    "outputId": "b21cacaf-acbb-4d67-dc56-a4ac6c2d1339"
   },
   "outputs": [
    {
     "name": "stdout",
     "output_type": "stream",
     "text": [
      "Generated training/test data with shapes\n",
      "X_train: (2638, 2, 1), y_train: (2638, 1)\n",
      "X_test: (878, 2, 1), y_test: (878, 1). \n"
     ]
    }
   ],
   "source": [
    "#@title Pack truncated sequence data {run: \"auto\"}\n",
    "\n",
    "def pack_truncated_data(data, num_prev = 100):  \n",
    "    X, Y = [], []\n",
    "    for i in range(len(data) - num_prev):\n",
    "      X.append(data[i : i + num_prev])\n",
    "      Y.append(data[i + num_prev])\n",
    "    # NOTE: Keras expects input data in the shape (batch_size, truncated_seq_len, input_dim)\n",
    "    # We have only one real-valued number per time-step, so we therefore expand \n",
    "    # the last dimension from (batch_size, truncated_seq_len) to \n",
    "    # (batch_size, truncated_seq_len, 1).\n",
    "    X, Y = np.array(X)[:,:,np.newaxis], np.array(Y)[:,np.newaxis]\n",
    "    return X, Y\n",
    "\n",
    "# We only consider this many previous data points\n",
    "truncated_seq_len = 2 #@param { type: \"slider\", min:1, max:10, step:1 }\n",
    "test_split = 0.25  # Fraction of total data to keep out as test data\n",
    "\n",
    "# We use only the sin(t) values, and discard the time values\n",
    "data = sin_t_noisy\n",
    "data_len = data.shape[0]\n",
    "num_train = int(data_len * (1 - test_split))\n",
    "\n",
    "train_data = data[:num_train]\n",
    "test_data = data[num_train:]\n",
    "\n",
    "X_train, y_train = pack_truncated_data(train_data, num_prev=truncated_seq_len)\n",
    "X_test, y_test = pack_truncated_data(test_data, num_prev=truncated_seq_len)  \n",
    "\n",
    "print(\"Generated training/test data with shapes\\nX_train: {}, y_train: {}\\nX_test: {}, y_test: {}. \".format(\n",
    "    X_train.shape, y_train.shape, X_test.shape, y_test.shape))\n"
   ]
  },
  {
   "cell_type": "markdown",
   "metadata": {
    "colab_type": "text",
    "id": "vgVxLBp8CaN6"
   },
   "source": [
    "**NOTE**: We reshape the training data into (batch_size, truncated_seq_len, 1) and (batch_size, 1) arrays."
   ]
  },
  {
   "cell_type": "markdown",
   "metadata": {
    "colab_type": "text",
    "id": "xiUrsPAI36M-"
   },
   "source": [
    "### Intermediate Aside: (Truncated) Backpropagation-through-Time and Vanishing and Exploding Gradients"
   ]
  },
  {
   "cell_type": "markdown",
   "metadata": {
    "colab_type": "text",
    "id": "SCJlN3O11pr1"
   },
   "source": [
    "RNNs model sequential data, and are designed to capture how ***outputs*** at the current time step are influenced by the ***inputs*** that came before them. This is referred to as **long-range dependencies**. At a high level, this allows the model to remember what it has seen so far in order to better contextualize what it is seeing at the moment (think about how knowing the context of the sentence or conversation can sometimes help one to better figure out the intended meaning of a misheard word or ambiguous statement). It is what makes these models so powerful, but it is also what makes them so hard to train!\n",
    "\n",
    "The most well-known algorithm for training RNNs is called **back-propagation through time (BPTT**; there are other algorithms). BPTT conceptually amounts to unrolling the computations of the RNN over time, computing the errors, and backpropagating the gradients through the unrolled graph structure.  Ideally we want to unroll the graph up to the maximum sequence length, however in practice, since sequence lengths vary and memory is limited, we only end up unrolling sequences up to some length $T$. This is called **truncated BPTT**, and is the most used variant of BPTT.\n",
    "\n",
    "At a high level, there are two main issues when using (truncated) BPTT to train RNNs:\n",
    "\n",
    "* Having shared (\"tied\") recurrent weights ($W_{hh}$) mean that **the gradient on these weights at some time step $t$ depends on all time steps up to time-step $T$**, the length of the full (truncated) sequence. This also leads to the **vanishing/exploding gradients** problem, which we'll explain below.\n",
    "\n",
    "* **Memory usage grows linearly with the total number of steps $T$ that we unroll for**, because we need to save/cache the activations at each time-step (look at the Python code above to convince yourself of this).  This matters computationally, since memory is a limited resource. It also matters statistically, because it puts a limit on the types of dependency that the model can successfully learn, by preventing it from correcting errors that stem from an input more than $T$ steps ago.\n",
    "\n",
    "**NOTE**: Think about that last statement and make sure you understand those 2 points.\n",
    "\n",
    "BPTT is very similar to the standard back-propagation algorithm. Key to understanding the BPTT algorithm is to realize that gradients on the non-recurrent weights (weights of a per time-step classifier that tries to predict the part-of-speech tag for each word for example) and recurrent weights (that transform $h_{t-1}$ into $h_t$) are computed differently:\n",
    "\n",
    "* The gradients of **non-recurrent weights** ($W_{hy}$) depend only on the error at that time-step, $E_t$.\n",
    "* The gradients of **recurrent weights** ($W_{hh}$) depend on all previous time-steps up to maximum length $T$.\n",
    "\n",
    "The first point is fairly intuitive: predictions at time-step $t$ is related to the loss of that particular prediction. \n",
    "\n",
    "The second point will be explained in more detail in the lectures (see also [this great blog post](http://www.wildml.com/2015/10/recurrent-neural-networks-tutorial-part-3-backpropagation-through-time-and-vanishing-gradients/)), but briefly, this can be summarized in these equations:\n",
    "\n",
    "1. The **current** state is a function of the **previous** state and the current input: $h_t = \\sigma(W_{hh}h_{t-1} + W_{xh}x_t)$\n",
    "2. The gradient of the loss $E_t$ at time $t$ on $W_{hh}$ is a function of the current hidden state and model predictions $\\hat{y}_t$ at time t: \n",
    "$\\frac{\\partial E_t}{\\partial W_{hh}} = \\frac{\\partial E_t}{\\partial \\hat{y}_t}\\frac{\\partial\\hat{y}_t}{\\partial h_t}\\frac{\\partial h_t}{\\partial W_{hh}}$\n",
    "3. Substituting (1) into (2) results in a **sum over all previous time-steps**:\n",
    "$\\frac{\\partial E_t}{\\partial W_{hh}} = \\sum\\limits_{k=0}^{t} \\underbrace{\\frac{\\partial E_t}{\\partial \\hat{y}_t}\\frac{\\partial\\hat{y}_t}{\\partial h_t}\\frac{\\partial h_t}{\\partial h_k}\\frac{\\partial h_k}{\\partial W_{hh}}}_\\text{product of gradient terms}$\n",
    "\n",
    "The problem is that $\\frac{\\partial h_t}{\\partial h_k} = \\Pi_j \\frac{\\partial h_j}{\\partial h_{j-1}}$ for j from $k + 1$ to $t$.  Because of this **repeated multiplicative interaction**, as the sequence length $t$ gets longer, the gradients themselves can get diminishingly small (**vanish**) or grow too large and result in numeric overflow (**explode**). This has been shown to be related to the norms of the recurrent weight matrices being less than or equal to 1. Intuitively, it works very similar to how multiplying a small number $v<1.0$ with itself repeatedly can quickly go to zero, or conversely, a large number $v>1.0$ could quickly go to infinity; only this is for matrices.\n"
   ]
  },
  {
   "cell_type": "markdown",
   "metadata": {
    "colab_type": "text",
    "id": "-o3qjqeZpLjN"
   },
   "source": [
    "###Build a tiny RNN in Keras\n",
    "\n",
    "Building an RNN in Keras is quite simple. We simply chain the layers together as follows:"
   ]
  },
  {
   "cell_type": "code",
   "execution_count": 7,
   "metadata": {
    "colab": {},
    "colab_type": "code",
    "id": "mEobTD6spOWx"
   },
   "outputs": [],
   "source": [
    "def define_model(truncated_seq_len):  \n",
    "    \n",
    "    input_dimension = 1\n",
    "    hidden_dimension = 1\n",
    "    output_dimension = 1\n",
    "    \n",
    "    model = tf.keras.models.Sequential()\n",
    "    model.add(tf.keras.layers.SimpleRNN(\n",
    "        # We need to specify the input_shape *without* leading batch_size (it is inferred)\n",
    "        input_shape=(truncated_seq_len, input_dimension),\n",
    "        units=hidden_dimension, \n",
    "        return_sequences=False,\n",
    "        name='hidden_layer'))\n",
    "    model.add(tf.keras.layers.Dense(\n",
    "        output_dimension, \n",
    "        name='output_layer'))\n",
    "\n",
    "    model.compile(loss=\"mean_squared_error\", \n",
    "                  optimizer=tf.train.AdamOptimizer(learning_rate=1e-3))\n",
    "    \n",
    "    return model\n"
   ]
  },
  {
   "cell_type": "markdown",
   "metadata": {
    "colab_type": "text",
    "id": "JHRscZaQze26"
   },
   "source": [
    "**NOTE**: We're building an RNN for **regression**. We therefore use a linear layer (which outputs real-valued numbers) at the output with the \"*mean_squared_error*\" loss function."
   ]
  },
  {
   "cell_type": "code",
   "execution_count": 8,
   "metadata": {
    "colab": {
     "base_uri": "https://localhost:8080/",
     "height": 215
    },
    "colab_type": "code",
    "id": "ONvBy4AopTrF",
    "outputId": "4cff0a47-5688-457a-c071-a5458decf8f6"
   },
   "outputs": [
    {
     "name": "stdout",
     "output_type": "stream",
     "text": [
      "WARNING:tensorflow:From /opt/conda/envs/Python36/lib/python3.6/site-packages/tensorflow/python/ops/tensor_array_ops.py:162: colocate_with (from tensorflow.python.framework.ops) is deprecated and will be removed in a future version.\n",
      "Instructions for updating:\n",
      "Colocations handled automatically by placer.\n",
      "WARNING:tensorflow:From /opt/conda/envs/Python36/lib/python3.6/site-packages/tensorflow/python/keras/utils/losses_utils.py:170: to_float (from tensorflow.python.ops.math_ops) is deprecated and will be removed in a future version.\n",
      "Instructions for updating:\n",
      "Use tf.cast instead.\n",
      "_________________________________________________________________\n",
      "Layer (type)                 Output Shape              Param #   \n",
      "=================================================================\n",
      "hidden_layer (SimpleRNN)     (None, 1)                 3         \n",
      "_________________________________________________________________\n",
      "output_layer (Dense)         (None, 1)                 2         \n",
      "=================================================================\n",
      "Total params: 5\n",
      "Trainable params: 5\n",
      "Non-trainable params: 0\n",
      "_________________________________________________________________\n"
     ]
    }
   ],
   "source": [
    "model = define_model(truncated_seq_len = X_train.shape[1])\n",
    "model.summary()"
   ]
  },
  {
   "cell_type": "markdown",
   "metadata": {
    "colab_type": "text",
    "id": "ddb6_04dfZvn"
   },
   "source": [
    "**NOTE**: You need to re-run the above cell every time after training to reset the model weights!"
   ]
  },
  {
   "cell_type": "markdown",
   "metadata": {
    "colab_type": "text",
    "id": "hD94X5iQc8Jg"
   },
   "source": [
    "###Train the tiny RNN\n",
    "Now let's train the model. This may take a few minutes (it takes much longer if you increase `truncated_seq_len`). Set `verbose=1` **before** you run the cell to see the intermediate output as the model is training. Set it to 0 if you don't want any output."
   ]
  },
  {
   "cell_type": "code",
   "execution_count": 9,
   "metadata": {
    "colab": {},
    "colab_type": "code",
    "id": "xvahCyhk7Wvr"
   },
   "outputs": [
    {
     "data": {
      "text/plain": [
       "\" SOLUTION TO ONE OF TASKS [DELETE]\\npatience = 5\\ntrain_history = model.fit(X_train, y_train, batch_size=600, epochs=1000, \\n                          verbose=1, validation_split=0.05,\\n                          callbacks=[tf.keras.callbacks.EarlyStopping(monitor='val_loss', patience=patience, verbose=1)])\\n\""
      ]
     },
     "execution_count": 9,
     "metadata": {},
     "output_type": "execute_result"
    }
   ],
   "source": [
    "''' SOLUTION TO ONE OF TASKS [DELETE]\n",
    "patience = 5\n",
    "train_history = model.fit(X_train, y_train, batch_size=600, epochs=1000, \n",
    "                          verbose=1, validation_split=0.05,\n",
    "                          callbacks=[tf.keras.callbacks.EarlyStopping(monitor='val_loss', patience=patience, verbose=1)])\n",
    "'''"
   ]
  },
  {
   "cell_type": "code",
   "execution_count": 11,
   "metadata": {
    "colab": {
     "base_uri": "https://localhost:8080/",
     "height": 36035
    },
    "colab_type": "code",
    "id": "xumvRz2lrPus",
    "outputId": "39973883-59f5-4233-8f02-83f902e0dc35"
   },
   "outputs": [
    {
     "name": "stdout",
     "output_type": "stream",
     "text": [
      "Train on 2506 samples, validate on 132 samples\n",
      "Epoch 1/100\n",
      "2506/2506 [==============================] - 0s 110us/sample - loss: 0.7738 - val_loss: 0.7582\n",
      "Epoch 2/100\n",
      "2506/2506 [==============================] - 0s 128us/sample - loss: 0.7682 - val_loss: 0.7527\n",
      "Epoch 3/100\n",
      "2506/2506 [==============================] - 0s 79us/sample - loss: 0.7626 - val_loss: 0.7473\n",
      "Epoch 4/100\n",
      "2506/2506 [==============================] - 0s 132us/sample - loss: 0.7571 - val_loss: 0.7421\n",
      "Epoch 5/100\n",
      "2506/2506 [==============================] - 0s 73us/sample - loss: 0.7518 - val_loss: 0.7369\n",
      "Epoch 6/100\n",
      "2506/2506 [==============================] - 0s 168us/sample - loss: 0.7466 - val_loss: 0.7318\n",
      "Epoch 7/100\n",
      "2506/2506 [==============================] - 0s 96us/sample - loss: 0.7414 - val_loss: 0.7268\n",
      "Epoch 8/100\n",
      "2506/2506 [==============================] - 0s 159us/sample - loss: 0.7363 - val_loss: 0.7218\n",
      "Epoch 9/100\n",
      "2506/2506 [==============================] - 0s 106us/sample - loss: 0.7313 - val_loss: 0.7169\n",
      "Epoch 10/100\n",
      "2506/2506 [==============================] - 0s 199us/sample - loss: 0.7264 - val_loss: 0.7121\n",
      "Epoch 11/100\n",
      "2506/2506 [==============================] - 0s 177us/sample - loss: 0.7215 - val_loss: 0.7073\n",
      "Epoch 12/100\n",
      "2506/2506 [==============================] - 0s 175us/sample - loss: 0.7167 - val_loss: 0.7026\n",
      "Epoch 13/100\n",
      "2506/2506 [==============================] - 0s 144us/sample - loss: 0.7120 - val_loss: 0.6980\n",
      "Epoch 14/100\n",
      "2506/2506 [==============================] - 0s 103us/sample - loss: 0.7073 - val_loss: 0.6934\n",
      "Epoch 15/100\n",
      "2506/2506 [==============================] - 0s 126us/sample - loss: 0.7028 - val_loss: 0.6889\n",
      "Epoch 16/100\n",
      "2506/2506 [==============================] - 0s 111us/sample - loss: 0.6983 - val_loss: 0.6846\n",
      "Epoch 17/100\n",
      "2506/2506 [==============================] - 0s 135us/sample - loss: 0.6940 - val_loss: 0.6803\n",
      "Epoch 18/100\n",
      "2506/2506 [==============================] - 0s 100us/sample - loss: 0.6896 - val_loss: 0.6761\n",
      "Epoch 19/100\n",
      "2506/2506 [==============================] - 0s 99us/sample - loss: 0.6853 - val_loss: 0.6719\n",
      "Epoch 20/100\n",
      "2506/2506 [==============================] - 0s 112us/sample - loss: 0.6812 - val_loss: 0.6678\n",
      "Epoch 21/100\n",
      "2506/2506 [==============================] - 0s 129us/sample - loss: 0.6770 - val_loss: 0.6637\n",
      "Epoch 22/100\n",
      "2506/2506 [==============================] - 0s 199us/sample - loss: 0.6730 - val_loss: 0.6597\n",
      "Epoch 23/100\n",
      "2506/2506 [==============================] - 0s 111us/sample - loss: 0.6690 - val_loss: 0.6558\n",
      "Epoch 24/100\n",
      "2506/2506 [==============================] - 0s 128us/sample - loss: 0.6650 - val_loss: 0.6519\n",
      "Epoch 25/100\n",
      "2506/2506 [==============================] - 0s 106us/sample - loss: 0.6611 - val_loss: 0.6481\n",
      "Epoch 26/100\n",
      "2506/2506 [==============================] - 0s 136us/sample - loss: 0.6573 - val_loss: 0.6444\n",
      "Epoch 27/100\n",
      "2506/2506 [==============================] - 0s 104us/sample - loss: 0.6535 - val_loss: 0.6407\n",
      "Epoch 28/100\n",
      "2506/2506 [==============================] - 0s 118us/sample - loss: 0.6497 - val_loss: 0.6371\n",
      "Epoch 29/100\n",
      "2506/2506 [==============================] - 0s 128us/sample - loss: 0.6460 - val_loss: 0.6336\n",
      "Epoch 30/100\n",
      "2506/2506 [==============================] - 0s 135us/sample - loss: 0.6424 - val_loss: 0.6300\n",
      "Epoch 31/100\n",
      "2506/2506 [==============================] - 0s 117us/sample - loss: 0.6389 - val_loss: 0.6265\n",
      "Epoch 32/100\n",
      "2506/2506 [==============================] - 0s 128us/sample - loss: 0.6354 - val_loss: 0.6231\n",
      "Epoch 33/100\n",
      "2506/2506 [==============================] - 0s 104us/sample - loss: 0.6320 - val_loss: 0.6198\n",
      "Epoch 34/100\n",
      "2506/2506 [==============================] - 0s 98us/sample - loss: 0.6286 - val_loss: 0.6166\n",
      "Epoch 35/100\n",
      "2506/2506 [==============================] - 0s 88us/sample - loss: 0.6253 - val_loss: 0.6133\n",
      "Epoch 36/100\n",
      "2506/2506 [==============================] - 0s 144us/sample - loss: 0.6220 - val_loss: 0.6101\n",
      "Epoch 37/100\n",
      "2506/2506 [==============================] - 0s 122us/sample - loss: 0.6188 - val_loss: 0.6070\n",
      "Epoch 38/100\n",
      "2506/2506 [==============================] - 0s 152us/sample - loss: 0.6155 - val_loss: 0.6040\n",
      "Epoch 39/100\n",
      "2506/2506 [==============================] - 0s 120us/sample - loss: 0.6124 - val_loss: 0.6011\n",
      "Epoch 40/100\n",
      "2506/2506 [==============================] - 0s 150us/sample - loss: 0.6093 - val_loss: 0.5982\n",
      "Epoch 41/100\n",
      "2506/2506 [==============================] - 0s 104us/sample - loss: 0.6062 - val_loss: 0.5952\n",
      "Epoch 42/100\n",
      "2506/2506 [==============================] - 0s 150us/sample - loss: 0.6032 - val_loss: 0.5922\n",
      "Epoch 43/100\n",
      "2506/2506 [==============================] - 1s 218us/sample - loss: 0.6002 - val_loss: 0.5892\n",
      "Epoch 44/100\n",
      "2506/2506 [==============================] - 0s 124us/sample - loss: 0.5973 - val_loss: 0.5862\n",
      "Epoch 45/100\n",
      "2506/2506 [==============================] - 0s 109us/sample - loss: 0.5943 - val_loss: 0.5833\n",
      "Epoch 46/100\n",
      "2506/2506 [==============================] - 0s 112us/sample - loss: 0.5915 - val_loss: 0.5803\n",
      "Epoch 47/100\n",
      "2506/2506 [==============================] - 0s 112us/sample - loss: 0.5886 - val_loss: 0.5776\n",
      "Epoch 48/100\n",
      "2506/2506 [==============================] - 0s 127us/sample - loss: 0.5858 - val_loss: 0.5749\n",
      "Epoch 49/100\n",
      "2506/2506 [==============================] - 0s 127us/sample - loss: 0.5831 - val_loss: 0.5722\n",
      "Epoch 50/100\n",
      "2506/2506 [==============================] - 0s 159us/sample - loss: 0.5804 - val_loss: 0.5695\n",
      "Epoch 51/100\n",
      "2506/2506 [==============================] - 0s 112us/sample - loss: 0.5777 - val_loss: 0.5669\n",
      "Epoch 52/100\n",
      "2506/2506 [==============================] - 0s 128us/sample - loss: 0.5751 - val_loss: 0.5643\n",
      "Epoch 53/100\n",
      "2506/2506 [==============================] - 0s 112us/sample - loss: 0.5725 - val_loss: 0.5617\n",
      "Epoch 54/100\n",
      "2506/2506 [==============================] - 0s 127us/sample - loss: 0.5700 - val_loss: 0.5592\n",
      "Epoch 55/100\n",
      "2506/2506 [==============================] - 0s 96us/sample - loss: 0.5674 - val_loss: 0.5567\n",
      "Epoch 56/100\n",
      "2506/2506 [==============================] - 0s 118us/sample - loss: 0.5649 - val_loss: 0.5543\n",
      "Epoch 57/100\n",
      "2506/2506 [==============================] - 0s 113us/sample - loss: 0.5624 - val_loss: 0.5520\n",
      "Epoch 58/100\n",
      "2506/2506 [==============================] - 0s 145us/sample - loss: 0.5600 - val_loss: 0.5497\n",
      "Epoch 59/100\n",
      "2506/2506 [==============================] - 0s 101us/sample - loss: 0.5576 - val_loss: 0.5474\n",
      "Epoch 60/100\n",
      "2506/2506 [==============================] - 0s 105us/sample - loss: 0.5553 - val_loss: 0.5452\n",
      "Epoch 61/100\n",
      "2506/2506 [==============================] - 0s 87us/sample - loss: 0.5529 - val_loss: 0.5429\n",
      "Epoch 62/100\n",
      "2506/2506 [==============================] - 0s 159us/sample - loss: 0.5506 - val_loss: 0.5407\n",
      "Epoch 63/100\n",
      "2506/2506 [==============================] - 0s 129us/sample - loss: 0.5484 - val_loss: 0.5384\n",
      "Epoch 64/100\n",
      "2506/2506 [==============================] - 0s 143us/sample - loss: 0.5461 - val_loss: 0.5361\n",
      "Epoch 65/100\n",
      "2506/2506 [==============================] - 0s 114us/sample - loss: 0.5439 - val_loss: 0.5339\n",
      "Epoch 66/100\n",
      "2506/2506 [==============================] - 0s 128us/sample - loss: 0.5417 - val_loss: 0.5317\n",
      "Epoch 67/100\n",
      "2506/2506 [==============================] - 0s 113us/sample - loss: 0.5396 - val_loss: 0.5296\n",
      "Epoch 68/100\n",
      "2506/2506 [==============================] - 0s 142us/sample - loss: 0.5374 - val_loss: 0.5275\n",
      "Epoch 69/100\n",
      "2506/2506 [==============================] - 0s 89us/sample - loss: 0.5353 - val_loss: 0.5255\n",
      "Epoch 70/100\n",
      "2506/2506 [==============================] - 0s 126us/sample - loss: 0.5332 - val_loss: 0.5234\n",
      "Epoch 71/100\n",
      "2506/2506 [==============================] - 0s 105us/sample - loss: 0.5312 - val_loss: 0.5215\n",
      "Epoch 72/100\n",
      "2506/2506 [==============================] - 0s 129us/sample - loss: 0.5292 - val_loss: 0.5196\n",
      "Epoch 73/100\n",
      "2506/2506 [==============================] - 0s 112us/sample - loss: 0.5272 - val_loss: 0.5176\n",
      "Epoch 74/100\n",
      "2506/2506 [==============================] - 0s 184us/sample - loss: 0.5252 - val_loss: 0.5156\n",
      "Epoch 75/100\n",
      "2506/2506 [==============================] - 0s 103us/sample - loss: 0.5232 - val_loss: 0.5137\n",
      "Epoch 76/100\n",
      "2506/2506 [==============================] - 0s 175us/sample - loss: 0.5213 - val_loss: 0.5118\n",
      "Epoch 77/100\n",
      "2506/2506 [==============================] - 0s 127us/sample - loss: 0.5194 - val_loss: 0.5099\n",
      "Epoch 78/100\n",
      "2506/2506 [==============================] - 0s 96us/sample - loss: 0.5175 - val_loss: 0.5080\n",
      "Epoch 79/100\n",
      "2506/2506 [==============================] - 0s 136us/sample - loss: 0.5156 - val_loss: 0.5062\n",
      "Epoch 80/100\n",
      "2506/2506 [==============================] - 0s 103us/sample - loss: 0.5138 - val_loss: 0.5044\n",
      "Epoch 81/100\n",
      "2506/2506 [==============================] - 0s 142us/sample - loss: 0.5120 - val_loss: 0.5026\n",
      "Epoch 82/100\n",
      "2506/2506 [==============================] - 0s 119us/sample - loss: 0.5101 - val_loss: 0.5008\n",
      "Epoch 83/100\n",
      "2506/2506 [==============================] - 0s 136us/sample - loss: 0.5084 - val_loss: 0.4991\n",
      "Epoch 84/100\n",
      "2506/2506 [==============================] - 0s 112us/sample - loss: 0.5066 - val_loss: 0.4973\n",
      "Epoch 85/100\n",
      "2506/2506 [==============================] - 0s 136us/sample - loss: 0.5049 - val_loss: 0.4956\n",
      "Epoch 86/100\n",
      "2506/2506 [==============================] - 0s 112us/sample - loss: 0.5032 - val_loss: 0.4940\n",
      "Epoch 87/100\n",
      "2506/2506 [==============================] - 0s 113us/sample - loss: 0.5015 - val_loss: 0.4924\n",
      "Epoch 88/100\n",
      "2506/2506 [==============================] - 0s 129us/sample - loss: 0.4998 - val_loss: 0.4907\n",
      "Epoch 89/100\n",
      "2506/2506 [==============================] - 0s 109us/sample - loss: 0.4981 - val_loss: 0.4889\n",
      "Epoch 90/100\n",
      "2506/2506 [==============================] - 0s 97us/sample - loss: 0.4965 - val_loss: 0.4873\n",
      "Epoch 91/100\n",
      "2506/2506 [==============================] - 0s 120us/sample - loss: 0.4949 - val_loss: 0.4858\n",
      "Epoch 92/100\n",
      "2506/2506 [==============================] - 0s 103us/sample - loss: 0.4932 - val_loss: 0.4842\n",
      "Epoch 93/100\n",
      "2506/2506 [==============================] - 0s 136us/sample - loss: 0.4917 - val_loss: 0.4827\n",
      "Epoch 94/100\n",
      "2506/2506 [==============================] - 0s 95us/sample - loss: 0.4901 - val_loss: 0.4812\n",
      "Epoch 95/100\n",
      "2506/2506 [==============================] - 0s 136us/sample - loss: 0.4885 - val_loss: 0.4797\n",
      "Epoch 96/100\n",
      "2506/2506 [==============================] - 0s 118us/sample - loss: 0.4870 - val_loss: 0.4782\n",
      "Epoch 97/100\n",
      "2506/2506 [==============================] - 0s 108us/sample - loss: 0.4855 - val_loss: 0.4767\n",
      "Epoch 98/100\n",
      "2506/2506 [==============================] - 0s 105us/sample - loss: 0.4840 - val_loss: 0.4752\n",
      "Epoch 99/100\n",
      "2506/2506 [==============================] - 0s 168us/sample - loss: 0.4825 - val_loss: 0.4738\n",
      "Epoch 100/100\n",
      "2506/2506 [==============================] - 0s 128us/sample - loss: 0.4811 - val_loss: 0.4724\n"
     ]
    }
   ],
   "source": [
    "train_history = model.fit(X_train, y_train, batch_size=600, epochs=100, \n",
    "                          verbose=1, validation_split=0.05)"
   ]
  },
  {
   "cell_type": "markdown",
   "metadata": {
    "colab_type": "text",
    "id": "CebcKzSW_g6P"
   },
   "source": [
    "Let's visualize the training and validation losses."
   ]
  },
  {
   "cell_type": "code",
   "execution_count": 12,
   "metadata": {
    "colab": {
     "base_uri": "https://localhost:8080/",
     "height": 369
    },
    "colab_type": "code",
    "id": "U9G1OHXoroBs",
    "outputId": "d0ba7ee2-92b9-4eda-87c0-11b40ce83449"
   },
   "outputs": [
    {
     "data": {
      "image/png": "[encoded data removed]",
      "text/plain": [
       "<Figure size 1080x360 with 1 Axes>"
      ]
     },
     "metadata": {
      "needs_background": "light"
     },
     "output_type": "display_data"
    }
   ],
   "source": [
    "plt.figure(figsize=(15,5))\n",
    "\n",
    "for label in [\"loss\",\"val_loss\"]:\n",
    "    plt.plot(train_history.history[label], label=label)\n",
    "\n",
    "plt.ylabel(\"loss\")\n",
    "plt.xlabel(\"epoch\")\n",
    "plt.title(\"The final validation loss: {}\".format(train_history.history[\"val_loss\"][-1]))\n",
    "plt.legend()\n",
    "plt.show()"
   ]
  },
  {
   "cell_type": "markdown",
   "metadata": {
    "colab_type": "text",
    "id": "Rs_-XnYhKl_N"
   },
   "source": [
    "Finally, let's look at the parameters for the trained model."
   ]
  },
  {
   "cell_type": "code",
   "execution_count": 13,
   "metadata": {
    "colab": {
     "base_uri": "https://localhost:8080/",
     "height": 73
    },
    "colab_type": "code",
    "id": "q4gtwBT7Kgh0",
    "outputId": "c212be9b-bd62-41cf-9163-33f69e306d95"
   },
   "outputs": [
    {
     "name": "stdout",
     "output_type": "stream",
     "text": [
      "hidden_layer, [array([[-0.81161886]], dtype=float32), array([[-1.5734121]], dtype=float32), array([-0.00425383], dtype=float32)]\n",
      "output_layer, [array([[1.2514805]], dtype=float32), array([-0.00170201], dtype=float32)]\n"
     ]
    }
   ],
   "source": [
    "for layer in model.layers:\n",
    "  print(\"{}, {}\".format(layer.name, layer.get_weights()))"
   ]
  },
  {
   "cell_type": "markdown",
   "metadata": {
    "colab_type": "text",
    "id": "bqFBu_dCsUqi"
   },
   "source": [
    "**QUESTION**: \n",
    "* Relate the above weights to the terms in the equation for the vanilla RNN we saw earlier, namely:\n",
    "  * input-to-hidden $W_{xh}$,\n",
    "  * hidden-to-hidden $W_{hh}$,\n",
    "  * hidden-to-output weights $W_{hy}$\n",
    "  * recurrent and out biases."
   ]
  },
  {
   "cell_type": "markdown",
   "metadata": {
    "colab_type": "text",
    "id": "0FHaN-VXfxEl"
   },
   "source": [
    "###Make predictions using the trained model"
   ]
  },
  {
   "cell_type": "code",
   "execution_count": 14,
   "metadata": {
    "colab": {
     "base_uri": "https://localhost:8080/",
     "height": 231
    },
    "colab_type": "code",
    "id": "IQl_msx-4o3E",
    "outputId": "7c2ac8d5-231f-47af-d227-092510c058ff"
   },
   "outputs": [
    {
     "data": {
      "image/png": "[encoded data removed]",
      "text/plain": [
       "<Figure size 1368x216 with 1 Axes>"
      ]
     },
     "metadata": {
      "needs_background": "light"
     },
     "output_type": "display_data"
    }
   ],
   "source": [
    "y_pred = model.predict(X_test[:100])\n",
    "plt.figure(figsize=(19,3))\n",
    "\n",
    "plt.plot(y_test[:100], label=\"true\")\n",
    "plt.plot(y_pred, label=\"predicted\")\n",
    "plt.legend()\n",
    "plt.show()"
   ]
  },
  {
   "cell_type": "markdown",
   "metadata": {
    "colab_type": "text",
    "id": "MQj5P-FKOgqG"
   },
   "source": [
    "**YOUR TASKS**: \n",
    "* [**ALL**] Change the learning rate up to 5 orders of magnitude larger and smaller and retrain. What happens when it is too large? What happens when it is too small?\n",
    "* [**ALL**] Change the `SimpleRNN` to `GRU`.\n",
    "  * You can read more about LSTMs in [this blog post](https://colah.github.io/posts/2015-08-Understanding-LSTMs/) by Chris Olah. \n",
    "  * What is the effect on the number of parameters? Can you explain why? Now do the same for `LSTM`.\n",
    "* [**INTERMEDIATE**] Note that the loss does not decrease much after around epoch 400. Add \"Early Stopping with patience\" to the `model.fit()` function to stop it from training beyond this point. **Hint**: Look at tf.keras.callbacks.\n",
    "  * *Early stopping* is a technique where we stop training the model once it's performance on validation data stops improving, and is a very common approach to prevent overfitting. Early stopping *with patience* means as soon as the model starts doing worse on validation we wait for at least `patience` more evaluations before stopping training, and if it improves within that time, we reset the counter. The patience parameter is a way to ensure we don't stop by accident, as the validation loss can fluctuate randomly from epoch to epoch.\n"
   ]
  },
  {
   "cell_type": "markdown",
   "metadata": {
    "colab_type": "text",
    "id": "REZzoUwjHkZW"
   },
   "source": [
    "##Further reading\n",
    "\n",
    "* https://distill.pub/2016/augmented-rnns/\n",
    "* https://distill.pub/2017/ctc/\n",
    "* https://algotravelling.com/en/machine-learning-fun-part-5/"
   ]
  }
 ],
 "metadata": {
  "colab": {
   "collapsed_sections": [],
   "name": "Practical 3: Recurrent Neural Networks",
   "provenance": [],
   "version": "0.3.2"
  },
  "kernelspec": {
   "display_name": "Python 3",
   "language": "python",
   "name": "python3"
  },
  "language_info": {
   "codemirror_mode": {
    "name": "ipython",
    "version": 3
   },
   "file_extension": ".py",
   "mimetype": "text/x-python",
   "name": "python",
   "nbconvert_exporter": "python",
   "pygments_lexer": "ipython3",
   "version": "3.6.5"
  }
 },
 "nbformat": 4,
 "nbformat_minor": 1
}
