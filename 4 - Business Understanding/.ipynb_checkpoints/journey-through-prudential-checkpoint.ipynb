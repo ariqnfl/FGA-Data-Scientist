{
 "cells": [
  {
   "cell_type": "code",
   "execution_count": null,
   "metadata": {
    "collapsed": true
   },
   "outputs": [],
   "source": [
    "%matplotlib inline"
   ]
  },
  {
   "cell_type": "markdown",
   "metadata": {},
   "source": [
    "# A Journey through Prudential\n",
    "Author: BobC\n",
    "Date: Dec 16, 2015\n",
    "\n",
    "Inspired by https://www.kaggle.com/omarelgabry/rossmann-store-sales/a-journey-through-rossmann-stores"
   ]
  },
  {
   "cell_type": "code",
   "execution_count": 1,
   "metadata": {},
   "outputs": [],
   "source": [
    "# Imports\n",
    "\n",
    "#utils\n",
    "import os\n",
    "import pylab\n",
    "\n",
    "# pandas\n",
    "import pandas as pd\n",
    "from pandas import Series,DataFrame\n",
    "\n",
    "# numpy, matplotlib, seaborn\n",
    "import numpy as np\n",
    "import matplotlib.pyplot as plt\n",
    "import seaborn as sns\n",
    "sns.set_style('whitegrid')\n",
    "%matplotlib inline"
   ]
  },
  {
   "cell_type": "code",
   "execution_count": 4,
   "metadata": {},
   "outputs": [],
   "source": [
    "# read the datasets (only looking at train for now)\n",
    "train  = pd.read_csv(\"dataset/train.csv\")\n",
    "\n",
    "#test      = pd.read_csv(\"../input/test.csv\")"
   ]
  },
  {
   "cell_type": "markdown",
   "metadata": {},
   "source": [
    "\n",
    "## Class Imbalance\n",
    "\n",
    "Class imbalance is something to be aware of when training."
   ]
  },
  {
   "cell_type": "code",
   "execution_count": 5,
   "metadata": {},
   "outputs": [
    {
     "data": {
      "text/plain": [
       "<matplotlib.axes._subplots.AxesSubplot at 0x22a04d5ee48>"
      ]
     },
     "execution_count": 5,
     "metadata": {},
     "output_type": "execute_result"
    },
    {
     "data": {
      "image/png": "[encoded data removed]",
      "text/plain": [
       "<Figure size 432x288 with 1 Axes>"
      ]
     },
     "metadata": {},
     "output_type": "display_data"
    }
   ],
   "source": [
    "sns.countplot(x='Response',data=train,palette=\"husl\", order = range(1,9))"
   ]
  },
  {
   "cell_type": "markdown",
   "metadata": {},
   "source": [
    "## Missing Data\n",
    "\n",
    "There's a lot of missing data.   Let's take a look\n",
    "\n",
    "First, let's find the columns with missing data.  As you can see, only 1% of the rows for Medical_History_10 have values"
   ]
  },
  {
   "cell_type": "code",
   "execution_count": 6,
   "metadata": {},
   "outputs": [
    {
     "name": "stdout",
     "output_type": "stream",
     "text": [
      "train:  nrows 59381, ncols 128\n"
     ]
    }
   ],
   "source": [
    "# Let's look at the size of the train dataset\n",
    "\n",
    "print(\"train:  nrows %d, ncols %d\" % train.shape)"
   ]
  },
  {
   "cell_type": "code",
   "execution_count": 7,
   "metadata": {},
   "outputs": [
    {
     "name": "stdout",
     "output_type": "stream",
     "text": [
      "             Feature \tCount \tPct missing\n",
      "   Employment_Info_1 \t   19  \t0.03%\n",
      "   Employment_Info_4 \t 6779  \t11.42%\n",
      "   Employment_Info_6 \t10854  \t18.28%\n",
      " Insurance_History_5 \t25396  \t42.77%\n",
      "       Family_Hist_2 \t28656  \t48.26%\n",
      "       Family_Hist_3 \t34241  \t57.66%\n",
      "       Family_Hist_4 \t19184  \t32.31%\n",
      "       Family_Hist_5 \t41811  \t70.41%\n",
      "   Medical_History_1 \t 8889  \t14.97%\n",
      "  Medical_History_10 \t58824  \t99.06%\n",
      "  Medical_History_15 \t44596  \t75.10%\n",
      "  Medical_History_24 \t55580  \t93.60%\n",
      "  Medical_History_32 \t58274  \t98.14%\n"
     ]
    }
   ],
   "source": [
    "# List features with missing values\n",
    "\n",
    "print(\"%20s \\tCount \\tPct missing\" % 'Feature')\n",
    "for column_name, column in train.transpose().iterrows():\n",
    "    naCount = sum(column.isnull())\n",
    "    if naCount > 0:\n",
    "       #print column_name, naCount, \"Percent missing: %f%%\" % 100.*naCount/train.shape[0]\n",
    "       print(\"%20s \\t%5d  \\t%2.2f%%\" % (column_name, naCount, 100.*naCount/train.shape[0]))"
   ]
  },
  {
   "cell_type": "markdown",
   "metadata": {},
   "source": [
    "\n",
    "\n",
    "### Plots for those variables with large amounts of missing data\n",
    "\n",
    "\n",
    "#### Employment History\n"
   ]
  },
  {
   "cell_type": "code",
   "execution_count": 8,
   "metadata": {},
   "outputs": [
    {
     "data": {
      "text/plain": [
       "Text(0,0.5,'Count')"
      ]
     },
     "execution_count": 8,
     "metadata": {},
     "output_type": "execute_result"
    },
    {
     "data": {
      "image/png": "[encoded data removed]",
      "text/plain": [
       "<Figure size 1080x288 with 2 Axes>"
      ]
     },
     "metadata": {},
     "output_type": "display_data"
    }
   ],
   "source": [
    "# Plot distributions for Employment_Info_4 and Employment_Info_6\n",
    "\n",
    "fig, (axis1,axis2) = plt.subplots(1,2,figsize=(15,4))\n",
    "train[\"Employment_Info_4\"].plot(kind='hist',bins=20,xlim=(0,1),ax=axis1)\n",
    "axis1.set_xlabel(\"Employment_Info_4\")\n",
    "axis1.set_ylabel(\"Count\")\n",
    "train[\"Employment_Info_6\"].plot(kind='hist',bins=50,xlim=(0,1),ax=axis2)\n",
    "axis2.set_xlabel(\"Employment_Info_6\")\n",
    "axis2.set_ylabel(\"Count\")"
   ]
  },
  {
   "cell_type": "markdown",
   "metadata": {},
   "source": [
    "Interesting distribution for *Employment_Info_6* (above)\n",
    "\n",
    "\n",
    "### Insurance History\n",
    "\n",
    "*Insurance_History_5* has a few large outliers, otherwise most of the data is is less than 0.02.  The data appears to be quantized"
   ]
  },
  {
   "cell_type": "code",
   "execution_count": null,
   "metadata": {},
   "outputs": [],
   "source": [
    "# Is there anything to learn in the data quantization for Insurance_History_5?\n",
    "\n",
    "x = min(train[\"Insurance_History_5\"][train[\"Insurance_History_5\"]>0])\n",
    "print(\"Min value > 0: %e   1/(Min value > 0) %f\" % (x,1./x))"
   ]
  },
  {
   "cell_type": "code",
   "execution_count": null,
   "metadata": {},
   "outputs": [],
   "source": [
    "# List all of the Insurance_History_5 values greater than 0.02  (Max is 1.0)\n",
    "\n",
    "train[\"Insurance_History_5\"][train[\"Insurance_History_5\"]>0.02]"
   ]
  },
  {
   "cell_type": "code",
   "execution_count": null,
   "metadata": {},
   "outputs": [],
   "source": [
    "# Plot distribution for Insurance_History_5 with two different x-axis scalings\n",
    "\n",
    "fig, (axis1,axis2) = plt.subplots(1,2,figsize=(15,4))\n",
    "train[\"Insurance_History_5\"].plot(kind='hist',bins=20,xlim=(0,1),ax=axis1)\n",
    "axis1.set_xlabel(\"Insurance_History_5\")\n",
    "axis1.set_ylabel(\"Count\")\n",
    "\n",
    "train[\"Insurance_History_5\"][train[\"Insurance_History_5\"]<0.034].plot(kind='hist',bins=60,xlim=(0,.05),ax=axis2)\n",
    "#np.log10(train[\"Insurance_History_5\"]+1).plot(kind='hist',bins=100,ax=axis2)\n",
    "axis2.set_xlabel(\"Insurance_History_5 (scaled X)\")\n",
    "axis2.set_ylabel(\"Count\")"
   ]
  },
  {
   "cell_type": "code",
   "execution_count": null,
   "metadata": {},
   "outputs": [],
   "source": [
    "pylab.rcParams['figure.figsize'] = (12.0, 8.0)\n",
    "fig, axisArr = plt.subplots(2,2)\n",
    "train[\"Family_Hist_2\"].plot(kind='hist',bins=100,xlim=(0,1),ax=axisArr[0,0])\n",
    "axisArr[0,0].set_xlabel(\"Family_Hist_2\")\n",
    "axisArr[0,0].set_ylabel(\"Count\")\n",
    "train[\"Family_Hist_3\"].plot(kind='hist',bins=100,xlim=(0,1),ax=axisArr[0,1])\n",
    "axisArr[0,1].set_xlabel(\"Family_Hist_3\")\n",
    "axisArr[0,1].set_ylabel(\"Count\")\n",
    "\n",
    "train[\"Family_Hist_4\"].plot(kind='hist',bins=100,xlim=(0,1),ax=axisArr[1,0])\n",
    "axisArr[1,0].set_xlabel(\"Family_Hist_4\")\n",
    "axisArr[1,0].set_ylabel(\"Count\")\n",
    "train[\"Family_Hist_5\"].plot(kind='hist',bins=100,xlim=(0,1),ax=axisArr[1,1])\n",
    "axisArr[1,1].set_xlabel(\"Family_Hist_5\")\n",
    "axisArr[1,1].set_ylabel(\"Count\")"
   ]
  },
  {
   "cell_type": "code",
   "execution_count": null,
   "metadata": {},
   "outputs": [],
   "source": [
    "# Multiplying the data by 71 turns Family_Hist_4 into integer data\n",
    "# So the original data may have had a range of 0-71 (assuming the data hasn't been shifted)\n",
    "train[\"Family_Hist_4\"][1:10]*71"
   ]
  },
  {
   "cell_type": "markdown",
   "metadata": {},
   "source": [
    "\n",
    "\n",
    "### Medical History\n",
    "\n",
    "Worth noting: *Medical History features with missing values aren't normalized. The max value is 240.*"
   ]
  },
  {
   "cell_type": "code",
   "execution_count": null,
   "metadata": {},
   "outputs": [],
   "source": [
    "train[\"Medical_History_1\"].plot(kind='hist',xlim=(0,250),bins=100)\n",
    "plt.xlabel(\"Medical_History_1\")\n",
    "plt.ylabel(\"Count\")"
   ]
  },
  {
   "cell_type": "code",
   "execution_count": null,
   "metadata": {},
   "outputs": [],
   "source": [
    "# Plot distributions for Medical_History_10, Medical_History_15, Medical_History_24, Medical_History_32\n",
    "\n",
    "pylab.rcParams['figure.figsize'] = (12.0, 8.0)\n",
    "fig, axisArr = plt.subplots(2,2)\n",
    "train[\"Medical_History_10\"].plot(kind='hist',bins=100,xlim=(0,250),ax=axisArr[0,0])\n",
    "axisArr[0,0].set_xlabel(\"Medical_History_10\")\n",
    "axisArr[0,0].set_ylabel(\"Count\")\n",
    "train[\"Medical_History_15\"].plot(kind='hist',bins=100,xlim=(0,250),ax=axisArr[0,1])\n",
    "axisArr[0,1].set_xlabel(\"Medical_History_15\")\n",
    "axisArr[0,1].set_ylabel(\"Count\")\n",
    "\n",
    "train[\"Medical_History_24\"].plot(kind='hist',bins=100,xlim=(0,250),ax=axisArr[1,0])\n",
    "axisArr[1,0].set_xlabel(\"Medical_History_24\")\n",
    "axisArr[1,0].set_ylabel(\"Count\")\n",
    "train[\"Medical_History_32\"].plot(kind='hist',bins=100,xlim=(0,250),ax=axisArr[1,1])\n",
    "axisArr[1,1].set_xlabel(\"Medical_History_32\")\n",
    "axisArr[1,1].set_ylabel(\"Count\")"
   ]
  },
  {
   "cell_type": "markdown",
   "metadata": {},
   "source": [
    "\n",
    "\n",
    "## More Medical History Fun\n",
    "\n",
    "The features below don't have missing values, but do have interesting distributions.  They appear to be binary, with somewhat arbitrary integer offsets and scalings.  This makes them somewhat different that the medical histories plotted above.  Those are binomial and appear to have continous values."
   ]
  },
  {
   "cell_type": "code",
   "execution_count": null,
   "metadata": {},
   "outputs": [],
   "source": [
    "# Plot the distributions for Medical_History_33, Medical_History_38, Medical_History_39 and Medical_History_40\n",
    "\n",
    "pylab.rcParams['figure.figsize'] = (12.0, 8.0)\n",
    "fig, axisArr = plt.subplots(2,2)\n",
    "train[\"Medical_History_33\"].plot(kind='hist',bins=20,xlim=(0,3),ax=axisArr[0,0])\n",
    "axisArr[0,0].set_xlabel(\"Medical_History_33\")\n",
    "axisArr[0,0].set_ylabel(\"Count\")\n",
    "train[\"Medical_History_38\"].plot(kind='hist',bins=20,xlim=(0,2),ax=axisArr[0,1])\n",
    "axisArr[0,1].set_xlabel(\"Medical_History_38\")\n",
    "axisArr[0,1].set_ylabel(\"Count\")\n",
    "\n",
    "train[\"Medical_History_39\"].plot(kind='hist',bins=20,xlim=(0,3),ax=axisArr[1,0])\n",
    "axisArr[1,0].set_xlabel(\"Medical_History_39\")\n",
    "axisArr[1,0].set_ylabel(\"Count\")\n",
    "train[\"Medical_History_40\"].plot(kind='hist',bins=20,xlim=(0,3),ax=axisArr[1,1])\n",
    "axisArr[1,1].set_xlabel(\"Medical_History_40\")\n",
    "axisArr[1,1].set_ylabel(\"Count\")"
   ]
  },
  {
   "cell_type": "markdown",
   "metadata": {},
   "source": [
    "\n",
    "\n",
    "## Product Info"
   ]
  },
  {
   "cell_type": "code",
   "execution_count": null,
   "metadata": {},
   "outputs": [],
   "source": [
    "# Product_Info_2 is categorical with 19 categories\n",
    "\n",
    "sns.countplot(x='Product_Info_2', data=train, \n",
    "              order=['A1','A2','A3','A4','A5','A6','A7','A8',\n",
    "                     'B1','B2',\n",
    "                     'C1','C2','C3','C4',\n",
    "                     'D1','D2','D3','D4',\n",
    "                     'E1'])"
   ]
  },
  {
   "cell_type": "markdown",
   "metadata": {},
   "source": [
    "The following plots are of the same data broken out for each Response.  \n",
    "\n",
    "Be careful when looking at these plots.  The response data doesn't have a uniform distribution, and these plots haven't been normalized for either the response distribution, or the Product_Info_2 distribution.  "
   ]
  },
  {
   "cell_type": "code",
   "execution_count": null,
   "metadata": {},
   "outputs": [],
   "source": [
    "pylab.rcParams['figure.figsize'] = (10.0, 14.0)\n",
    "f, axisarr = plt.subplots(4, 2)\n",
    "for r in range(1,9):\n",
    "    axs = axisarr[int((r-1)/2),(r-1)%2]\n",
    "    sns.countplot(x='Product_Info_2', data=train[train[\"Response\"]==r], \n",
    "              order=['A1','A2','A3','A4','A5','A6','A7','A8',\n",
    "                     'B1','B2',\n",
    "                     'C1','C2','C3','C4',\n",
    "                     'D1','D2','D3','D4',\n",
    "                     'E1'],ax=axs)\n",
    "    axs.set_ylabel('Count')\n",
    "    axs.set_xlabel('Response: '+str(r))"
   ]
  },
  {
   "cell_type": "markdown",
   "metadata": {},
   "source": [
    "\n",
    "\n",
    "## Age vs Response"
   ]
  },
  {
   "cell_type": "code",
   "execution_count": null,
   "metadata": {},
   "outputs": [],
   "source": [
    "# Look at Responses as a function of age.   It's not surprising that responses differ as a function of age.\n",
    "\n",
    "pylab.rcParams['figure.figsize'] = (10.0, 14.0)\n",
    "f, axisarr = plt.subplots(4, 2)\n",
    "for r in range(1,9):\n",
    "    axs = axisarr[int((r-1)/2),(r-1)%2]\n",
    "    train[\"Ins_Age\"][train[\"Response\"]==r].plot(kind='hist',bins=50,xlim=(0,1),ax=axs)\n",
    "    axs.set_ylabel('Count')\n",
    "    axs.set_xlabel('Response: '+str(r))"
   ]
  },
  {
   "cell_type": "code",
   "execution_count": null,
   "metadata": {},
   "outputs": [],
   "source": []
  }
 ],
 "metadata": {
  "kernelspec": {
   "display_name": "Python 3",
   "language": "python",
   "name": "python3"
  },
  "language_info": {
   "codemirror_mode": {
    "name": "ipython",
    "version": 3
   },
   "file_extension": ".py",
   "mimetype": "text/x-python",
   "name": "python",
   "nbconvert_exporter": "python",
   "pygments_lexer": "ipython3",
   "version": "3.6.5"
  }
 },
 "nbformat": 4,
 "nbformat_minor": 1
}
